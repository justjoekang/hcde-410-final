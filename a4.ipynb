{
 "cells": [
  {
   "cell_type": "markdown",
   "id": "1f8e4c69-49af-434d-a841-858d1ef810a5",
   "metadata": {},
   "source": [
    "<h1>Motivation</h1>\n",
    "\n",
    "ChatGPT is a new piece of technology that has increasingly made its way into mainstream media; one would find it very difficult to find someone who's never heard of ChatGPT at our university, for example. I recently did an assignment for a seminar class that made me use ChatGPT to ask questions about various HCD topics and to annotate the results. I was shocked to see how accurate some of the responses to the questions I entered were. While ChatGPT is a very powerful tool, there are potential ramifications or problems it could pose in the future, such as privacy and safety concerns. Therefore, I wanted to see if I could do a project tracking some public sentiment regarding the tool. I hope to learn how people are feeling about ChatGPT as a whole. Are people concerned, fascinated/excited, or maybe downright terrified? "
   ]
  },
  {
   "cell_type": "markdown",
   "id": "16030504-9a63-4a88-92e1-2d05605ad7a7",
   "metadata": {},
   "source": [
    "<h1>Data</h1>\n",
    "The dataset I found contains 500 thousand tweets with the word \"ChatGPT\" inside from January to March of 2023. It tracks information regarding the exact date and time of the tweet, the user who tweeted, the message itself, and the number of likes and retweets. The link to the dataset is below: \n",
    "https://www.kaggle.com/datasets/khalidryder777/500k-chatgpt-tweets-jan-mar-2023\n",
    "The license for this data is CC:0, Public Domain, which means that I can copy, modify, or use their data without their permission.\n",
    "\n",
    "This dataset contains a massive amount of tweets over the span of three months, which can help me make visualizations that span over weeks, or months. It's possible I could verify whether or not people's perceptions of ChatGPT have changed over the past three months. While more research needs to be done, it might be interesting to combine this dataset with some sort of NLP tool in order to assign a positive/negative sentiment rating. This would allow me to track how people feel about the tool over a time period, which I think would be very interesting.\n",
    "\n",
    "Some ethical considerations to this project might be the fairness in using other people's tweets; while Twitter is a public social media platform, some may find it disingenious to use other people's tweets without their permission. "
   ]
  },
  {
   "cell_type": "markdown",
   "id": "8b189c67-993d-4b9d-9f4c-650245417924",
   "metadata": {},
   "source": [
    "<h1>Unknowns and Dependencies</h1>\n",
    "It may be difficult to complete this project to the extent that I would like to by the end of this quarter. Some possible complications might be: \n",
    "    1) Am I able to run a NLP classifier on a dataset so big? Will I need to use Hyak? Do I need to learn how to use Hyak?\n",
    "    2) Will cleaning the data take up time? I have not had the chance to explore the data thoroughly enough to see if it will require cleaning.\n",
    "    "
   ]
  },
  {
   "cell_type": "markdown",
   "id": "9768355e-6bd0-485c-bc78-b418e35a5d17",
   "metadata": {},
   "source": [
    "<h1>Overview and Research Questions</h1>\n",
    "The main motivation and goal for this project is to uncover what people's sentiments are regarding ChatGPT. The dataset I will be using will be from Twitter, and therefore insights and conclusions should only reflect social media users and not entire populations. Some research questions for this project include:\n",
    "\n",
    "1. Are Twitter user sentiments regarding ChatGPT trending positively or negatively?\n",
    "2. Is ChatGPT as a topic growing in popularity on Twitter? To what degree?\n",
    "2a. Is ChatGPT as a topic growing in popularity amongst celebrities, verified users, and others with high following counts?\n",
    "3. What keywords most often accompany ChatGPT within these tweets?\n",
    "\n",
    "\n"
   ]
  },
  {
   "cell_type": "markdown",
   "id": "fd8a27d4-1fba-4b05-8b2b-4b5683c6182b",
   "metadata": {},
   "source": [
    "<h1>Related Work</h1>\n",
    "Regarding related work, I found this [paper](https://arxiv.org/abs/2212.05856), written by Mubin Ul Haque, Isuru Dharmadasa, Zarrin Tasnim Sworna, Roshan Namal Rajapakse, and Hussain Ahmad. In the paper, they did mixed method research in order to uncover user sentiments regarding Twitter in ChatGPT's early stages. Their findings showed that overwhelmingly, users shared very positive sentiments regarding ChatGPT and its uses. \n",
    "\n",
    "I was informed by this paper by learning some of the steps they took in order to properly cleaning the data, including removing duplicates. I had several questions regarding their choices to remove emojis, to lowercase all of their text, etc, but considering the time alotted for this project, I will not have the chance to make extensive research farther than theirs. \n",
    "\n",
    "Some interesting things within the paper I could look to replicate might be comparing keywords outside of \"ChatGPT\" within these tweets. \n"
   ]
  },
  {
   "cell_type": "markdown",
   "id": "67b83d3e-b0ea-44e8-9100-c3d35d5c9ab7",
   "metadata": {},
   "source": [
    "<h1>Methodology</h1>\n",
    "Without having started the work and dealt with the rigor of the project itself, it's difficult to say exactly all the methods that will be used for this project. For this project, I do not think any statistiscal methods will be used. However, I hope to be able to track information regarding unique users involved in the ChatGPT conversation, most common keywords, number of likes/retweets, number of verified users involved in the ChatGPT conversation. \n",
    "\n",
    "\n",
    "Much of this work will be data cleaning, and then time spent creating data visualizations to help identify and come to conclusions to see whether trends can be identified over the span of three months. The vast majority of the data visualizations will likely be time-series graphs. A time series-graph is most useful for seeing how trends form over time. It's important that I identify possible limitations of the study when presenting these data visualizations, as three months of data is interesting, but not enough to make overarching conclusions about a platform as large as Twitter (or in large, the general population).  \n",
    "\n"
   ]
  }
 ],
 "metadata": {
  "kernelspec": {
   "display_name": "Python 3 (ipykernel)",
   "language": "python",
   "name": "python3"
  },
  "language_info": {
   "codemirror_mode": {
    "name": "ipython",
    "version": 3
   },
   "file_extension": ".py",
   "mimetype": "text/x-python",
   "name": "python",
   "nbconvert_exporter": "python",
   "pygments_lexer": "ipython3",
   "version": "3.9.7"
  }
 },
 "nbformat": 4,
 "nbformat_minor": 5
}
